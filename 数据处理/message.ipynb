{
 "cells": [
  {
   "cell_type": "code",
   "execution_count": null,
   "metadata": {},
   "outputs": [],
   "source": [
    "import pika\n",
    "\n",
    "# ########################## 消费者 ##########################\n",
    "credentials = pika.PlainCredentials('guest', 'guest')\n",
    "# 连接到rabbitmq服务器\n",
    "connection = pika.BlockingConnection(pika.ConnectionParameters('localhost',5672,'/',credentials))\n",
    "channel = connection.channel()\n",
    "\n",
    "# 声明消息队列，消息将在这个队列中进行传递。如果队列不存在，则创建\n",
    "channel.queue_declare(queue='fxwl.queue.monitor.file',durable=True)\n",
    "\n",
    "\n",
    "# 定义一个回调函数来处理，这边的回调函数就是将信息打印出来。\n",
    "def callback(ch, method, properties, body):\n",
    "    print(\" [x] Received %r\" % body)\n",
    "\n",
    "\n",
    "# 告诉rabbitmq使用callback来接收信息\n",
    "channel.basic_consume(callback,\n",
    "                      queue='fxwl.queue.monitor.file',\n",
    "                      no_ack=True)\n",
    " # no_ack=True表示在回调函数中不需要发送确认标识\n",
    "\n",
    "print(' [*] Waiting for messages. To exit press CTRL+C')\n",
    "\n",
    "# 开始接收信息，并进入阻塞状态，队列里有信息才会调用callback进行处理。按ctrl+c退出。\n",
    "channel.start_consuming()\n"
   ]
  },
  {
   "cell_type": "code",
   "execution_count": null,
   "metadata": {},
   "outputs": [],
   "source": [
    "#!/usr/bin/env python\n",
    "import pika\n",
    " \n",
    "connection = pika.BlockingConnection(pika.ConnectionParameters(host='localhost')) #创建一个连接\n",
    "channel = connection.channel()  #创建通道\n",
    " \n",
    "channel.queue_declare(queue='hello') #把消息队列的名字为hello\n",
    " \n",
    "channel.basic_publish(exchange='',\n",
    "                      routing_key='hello',\n",
    "                      body='Hello World!') #设置routing_key（消息队列的名称）和body（发送的内容）\n",
    "print(\" [x] Sent 'Hello World!'\")\n",
    "connection.close()  #关闭连接"
   ]
  },
  {
   "cell_type": "code",
   "execution_count": null,
   "metadata": {},
   "outputs": [],
   "source": [
    "#!/usr/bin/env python\n",
    "import pika\n",
    " \n",
    "connection = pika.BlockingConnection(pika.ConnectionParameters(host='localhost')) #创建一个连接\n",
    "channel = connection.channel()  #建立通道\n",
    " \n",
    "channel.queue_declare(queue='hello') \n",
    " \n",
    "def callback(ch, method, properties, body):  #回调函数get消息体\n",
    "    print(\" [x] Received %r\" % body)\n",
    " \n",
    "channel.basic_consume(callback,\n",
    "                      queue='hello',\n",
    "                      no_ack=True)\n",
    " \n",
    "print(' [*] Waiting for messages. To exit press CTRL+C')\n",
    "channel.start_consuming()  #创建死循环，监听消息队列，可使用CTRL+C结束监听"
   ]
  },
  {
   "cell_type": "code",
   "execution_count": null,
   "metadata": {},
   "outputs": [],
   "source": []
  }
 ],
 "metadata": {
  "kernelspec": {
   "display_name": "Python 3",
   "language": "python",
   "name": "python3"
  },
  "language_info": {
   "codemirror_mode": {
    "name": "ipython",
    "version": 3
   },
   "file_extension": ".py",
   "mimetype": "text/x-python",
   "name": "python",
   "nbconvert_exporter": "python",
   "pygments_lexer": "ipython3",
   "version": "3.6.4"
  }
 },
 "nbformat": 4,
 "nbformat_minor": 2
}
